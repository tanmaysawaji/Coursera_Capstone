{
 "cells": [
  {
   "cell_type": "markdown",
   "metadata": {},
   "source": [
    "# Data Description\n",
    "---\n",
    "\n",
    "## Dataset:\n",
    "\n",
    "The dataset used in this study is retrieved from kaggle. The dataset is 'Flats for Rent in Mumbai'. The dataset can be found at [this](https://www.kaggle.com/jedipro/flats-for-rent-in-mumbai) link.\n",
    "\n",
    "The dataset contains 23 columns but all these columns are not used in the model. The features used are discussed in detailed below in the table. Each row in this data set is a unique property for rent in Mumbai, according to the website 'magicbricks.com' as of mid-January, 2020.\n",
    "\n",
    "The **features** to be extracted are listed below:\n",
    "\n",
    "|Column|Description|\n",
    "|:--|:--|\n",
    "|area|Floor area of the property in sq.ft|\n",
    "|bathroom_num|Number of bathrooms available|\n",
    "|bedroom_num|Number of bedrooms available|\n",
    "|floor_count|Total number of floors in the building|\n",
    "|floor_num|Floor on which the property exists|\n",
    "|furnishing|Furnishing status; the value can be Unfurnished, Semi-Furnished or Furnished|\n",
    "|locality|Locality in which the property is located|\n",
    "|user_type|Type of user who posted the ad, ie, Builder, Agent or Owner| \n",
    "|price|The rent price of the appartment|\n",
    "\n",
    "The features 'furnishing', 'locality' and 'user_type' are categorical features. These features will be transformed into numerical data in the preprocessing stage."
   ]
  },
  {
   "cell_type": "code",
   "execution_count": null,
   "metadata": {},
   "outputs": [],
   "source": []
  }
 ],
 "metadata": {
  "kernelspec": {
   "display_name": "Python 3",
   "language": "python",
   "name": "python3"
  },
  "language_info": {
   "codemirror_mode": {
    "name": "ipython",
    "version": 3
   },
   "file_extension": ".py",
   "mimetype": "text/x-python",
   "name": "python",
   "nbconvert_exporter": "python",
   "pygments_lexer": "ipython3",
   "version": "3.6.9"
  }
 },
 "nbformat": 4,
 "nbformat_minor": 4
}

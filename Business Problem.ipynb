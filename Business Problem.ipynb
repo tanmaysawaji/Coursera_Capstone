{
 "cells": [
  {
   "cell_type": "markdown",
   "metadata": {},
   "source": [
    "# Introduction/Business Problem\n",
    "---\n",
    "\n",
    "## Introduction:\n",
    "\n",
    "Mumbai is the commercial capital of India and has evolved into a global financial hub. For several decades it has been the home of India's main financial services, and a focus for both infrastructure development and private investment. From being an ancient fishing community and a colonial centre of trade, Mumbai has become South Asia's largest city and home of the world's most prolific film industry. This influx in economy has created a lot of jobs in the city which has resulted in mass immigration from other cities in India and even from outside of India. Since the market is so volatile, employees prefer to rent apartments rather than buying a property.\n",
    "\n",
    "This study aims to shed light on the contribution of various factors in the pricing of rent in Mumbai city. This study will also help me understand which factors are more prominent in deciding the pricing of rent in Mumbai.\n",
    "\n",
    "This study is primarily for people who are looking for places to rent in Mumbai, as this study will assist them in minimizing the cost while also making sure that they do not compromise in amenities.\n",
    "\n",
    "## Dataset:\n",
    "\n",
    "The dataset used in this study is retrieved from kaggle. The dataset is 'Flats for Rent in Mumbai'. The dataset can be found at [this](https://www.kaggle.com/jedipro/flats-for-rent-in-mumbai) link."
   ]
  },
  {
   "cell_type": "code",
   "execution_count": null,
   "metadata": {},
   "outputs": [],
   "source": []
  }
 ],
 "metadata": {
  "kernelspec": {
   "display_name": "Python 3",
   "language": "python",
   "name": "python3"
  },
  "language_info": {
   "codemirror_mode": {
    "name": "ipython",
    "version": 3
   },
   "file_extension": ".py",
   "mimetype": "text/x-python",
   "name": "python",
   "nbconvert_exporter": "python",
   "pygments_lexer": "ipython3",
   "version": "3.6.9"
  }
 },
 "nbformat": 4,
 "nbformat_minor": 4
}
